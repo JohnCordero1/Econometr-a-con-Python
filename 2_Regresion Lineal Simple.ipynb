{
 "cells": [
  {
   "cell_type": "markdown",
   "id": "bbc08485",
   "metadata": {},
   "source": [
    "# Introducción"
   ]
  },
  {
   "cell_type": "markdown",
   "id": "f36b55b9",
   "metadata": {},
   "source": [
    "En el modelo de regresión lineal simple nos preocupa estimar los parámetros poblacionales $\\beta_1$ y $\\beta_2$. Donde, con base en el supuesto de que conocemos el modelo subyacente, intentamos dar una relación causal:\n",
    "\n",
    "$$y_t = \\beta_1 + \\beta_2 x_t + u_t$$\n",
    "\n",
    "Debemos encontrar estimadores de $\\beta_1$ y $\\beta_2$ dado una muestra de tamaño T. Por lo que para encontrar la mejor recta que se ajuste a los datos debemos minimizar la varianza del movimiento de $y$ del componente no sistemático o maximizar la información del componente sistemático.\n",
    "\n",
    "Para este cuaderno buscaremos minimizar el componente no sistemático:\n",
    "\n",
    "$$\\min \\sum u_t^2$$\n",
    "\n",
    "De esta forma podemos definir la suma de cuadrados residuales (SCR) de la siguiente forma:\n",
    "\n",
    "$$S_T(\\beta) = \\sum_{t=1}^T (y_t - \\beta_1 - \\beta_2 x_t)^2 $$\n",
    "\n",
    "El estimador de Minimos Cuadrados Ordinarios (MCO) que minimiza $S_T(\\beta)$ es:\n",
    "\n",
    "\\begin{align}\n",
    "\\hat{\\beta}_1 &= \\bar{y} - \\hat{\\beta}_2 \\bar{x}\\\\\n",
    "\\hat{\\beta}_2 &= \\frac{\\sum_{t=1}^T (x_t - \\bar{x}_t)(y_t - \\bar{y}_t)}{\\sum_{t=1}^T (x_t - \\bar{x}_t)^2} = \\frac{\\text{Cov}(x,y)}{\\text{Var}(x)}\n",
    "\\end{align}\n",
    "\n",
    "Con base en estos parámetros estimados, la recta de regresión MCO es:\n",
    "\n",
    "$$\\hat{y}_t = \\beta_1 + \\beta_2 x_t$$\n",
    "\n",
    "Ciertamente los estimadores de los parámetros y el residuo de la regresión $(\\hat{u} = y - \\hat{y})$ tienen sus propiedades; sin embargo, no es el objetivo de este cuaderno meternos a fondo con la teoría econométrica.\n",
    "\n",
    "Como se puede observar para calcular los parámetros solo debemos calcular algunos estadísticos descriptivos, que son $\\bar{y}, \\bar{x}, \\text{Cov}(x,y), \\text{Var}(x)$ y, sustituir en las ecuaciónes encontradas.\n"
   ]
  },
  {
   "cell_type": "markdown",
   "id": "be28f208",
   "metadata": {},
   "source": [
    "# Wooldridge, Ejemplo 2.3"
   ]
  },
  {
   "cell_type": "markdown",
   "id": "e7c0b77b",
   "metadata": {},
   "source": [
    "Para ejemplificar esto, usaremos los datos de <font color = red> CEOSAL1 </font>, tal cual lo hace el ejemplo 2.3 \"CEO Salary and Return on Equity\":\n",
    "\n",
    "$$\\text{salary} = \\beta_1 + \\beta_2 \\text{roe} + u$$\n",
    "\n",
    "\n",
    "donde $\\text{salary}$ es el salario de un director ejecutivo en miles de dólares y $\\text{roe}$ es el retorno de la inversión en porcentaje. Con esto podemos calcular las estadísticas necesarias para poder reproducir los estimadores vía MCO."
   ]
  },
  {
   "cell_type": "code",
   "execution_count": 1,
   "id": "b62be7bb",
   "metadata": {},
   "outputs": [],
   "source": [
    "import wooldridge as woo\n",
    "import numpy as np\n",
    "import matplotlib.pyplot as plt\n",
    "import seaborn as sns\n",
    "plt.style.use('ggplot')"
   ]
  },
  {
   "cell_type": "code",
   "execution_count": 2,
   "id": "ce01a8f0",
   "metadata": {},
   "outputs": [
    {
     "data": {
      "text/html": [
       "<div>\n",
       "<style scoped>\n",
       "    .dataframe tbody tr th:only-of-type {\n",
       "        vertical-align: middle;\n",
       "    }\n",
       "\n",
       "    .dataframe tbody tr th {\n",
       "        vertical-align: top;\n",
       "    }\n",
       "\n",
       "    .dataframe thead th {\n",
       "        text-align: right;\n",
       "    }\n",
       "</style>\n",
       "<table border=\"1\" class=\"dataframe\">\n",
       "  <thead>\n",
       "    <tr style=\"text-align: right;\">\n",
       "      <th></th>\n",
       "      <th>salary</th>\n",
       "      <th>pcsalary</th>\n",
       "      <th>sales</th>\n",
       "      <th>roe</th>\n",
       "      <th>pcroe</th>\n",
       "      <th>ros</th>\n",
       "      <th>indus</th>\n",
       "      <th>finance</th>\n",
       "      <th>consprod</th>\n",
       "      <th>utility</th>\n",
       "      <th>lsalary</th>\n",
       "      <th>lsales</th>\n",
       "    </tr>\n",
       "  </thead>\n",
       "  <tbody>\n",
       "    <tr>\n",
       "      <th>0</th>\n",
       "      <td>1095</td>\n",
       "      <td>20</td>\n",
       "      <td>27595.000000</td>\n",
       "      <td>14.1</td>\n",
       "      <td>106.400002</td>\n",
       "      <td>191</td>\n",
       "      <td>1</td>\n",
       "      <td>0</td>\n",
       "      <td>0</td>\n",
       "      <td>0</td>\n",
       "      <td>6.998509</td>\n",
       "      <td>10.225389</td>\n",
       "    </tr>\n",
       "    <tr>\n",
       "      <th>1</th>\n",
       "      <td>1001</td>\n",
       "      <td>32</td>\n",
       "      <td>9958.000000</td>\n",
       "      <td>10.9</td>\n",
       "      <td>-30.600000</td>\n",
       "      <td>13</td>\n",
       "      <td>1</td>\n",
       "      <td>0</td>\n",
       "      <td>0</td>\n",
       "      <td>0</td>\n",
       "      <td>6.908755</td>\n",
       "      <td>9.206132</td>\n",
       "    </tr>\n",
       "    <tr>\n",
       "      <th>2</th>\n",
       "      <td>1122</td>\n",
       "      <td>9</td>\n",
       "      <td>6125.899902</td>\n",
       "      <td>23.5</td>\n",
       "      <td>-16.299999</td>\n",
       "      <td>14</td>\n",
       "      <td>1</td>\n",
       "      <td>0</td>\n",
       "      <td>0</td>\n",
       "      <td>0</td>\n",
       "      <td>7.022868</td>\n",
       "      <td>8.720281</td>\n",
       "    </tr>\n",
       "    <tr>\n",
       "      <th>3</th>\n",
       "      <td>578</td>\n",
       "      <td>-9</td>\n",
       "      <td>16246.000000</td>\n",
       "      <td>5.9</td>\n",
       "      <td>-25.700001</td>\n",
       "      <td>-21</td>\n",
       "      <td>1</td>\n",
       "      <td>0</td>\n",
       "      <td>0</td>\n",
       "      <td>0</td>\n",
       "      <td>6.359574</td>\n",
       "      <td>9.695602</td>\n",
       "    </tr>\n",
       "    <tr>\n",
       "      <th>4</th>\n",
       "      <td>1368</td>\n",
       "      <td>7</td>\n",
       "      <td>21783.199219</td>\n",
       "      <td>13.8</td>\n",
       "      <td>-3.000000</td>\n",
       "      <td>56</td>\n",
       "      <td>1</td>\n",
       "      <td>0</td>\n",
       "      <td>0</td>\n",
       "      <td>0</td>\n",
       "      <td>7.221105</td>\n",
       "      <td>9.988894</td>\n",
       "    </tr>\n",
       "    <tr>\n",
       "      <th>...</th>\n",
       "      <td>...</td>\n",
       "      <td>...</td>\n",
       "      <td>...</td>\n",
       "      <td>...</td>\n",
       "      <td>...</td>\n",
       "      <td>...</td>\n",
       "      <td>...</td>\n",
       "      <td>...</td>\n",
       "      <td>...</td>\n",
       "      <td>...</td>\n",
       "      <td>...</td>\n",
       "      <td>...</td>\n",
       "    </tr>\n",
       "    <tr>\n",
       "      <th>204</th>\n",
       "      <td>930</td>\n",
       "      <td>10</td>\n",
       "      <td>1509.099976</td>\n",
       "      <td>9.0</td>\n",
       "      <td>20.500000</td>\n",
       "      <td>131</td>\n",
       "      <td>0</td>\n",
       "      <td>0</td>\n",
       "      <td>0</td>\n",
       "      <td>1</td>\n",
       "      <td>6.835185</td>\n",
       "      <td>7.319269</td>\n",
       "    </tr>\n",
       "    <tr>\n",
       "      <th>205</th>\n",
       "      <td>525</td>\n",
       "      <td>3</td>\n",
       "      <td>1097.099976</td>\n",
       "      <td>15.5</td>\n",
       "      <td>20.100000</td>\n",
       "      <td>72</td>\n",
       "      <td>0</td>\n",
       "      <td>0</td>\n",
       "      <td>0</td>\n",
       "      <td>1</td>\n",
       "      <td>6.263398</td>\n",
       "      <td>7.000426</td>\n",
       "    </tr>\n",
       "    <tr>\n",
       "      <th>206</th>\n",
       "      <td>658</td>\n",
       "      <td>32</td>\n",
       "      <td>4542.600098</td>\n",
       "      <td>12.1</td>\n",
       "      <td>-7.800000</td>\n",
       "      <td>68</td>\n",
       "      <td>0</td>\n",
       "      <td>0</td>\n",
       "      <td>0</td>\n",
       "      <td>1</td>\n",
       "      <td>6.489205</td>\n",
       "      <td>8.421255</td>\n",
       "    </tr>\n",
       "    <tr>\n",
       "      <th>207</th>\n",
       "      <td>555</td>\n",
       "      <td>6</td>\n",
       "      <td>2023.000000</td>\n",
       "      <td>13.7</td>\n",
       "      <td>-14.600000</td>\n",
       "      <td>60</td>\n",
       "      <td>0</td>\n",
       "      <td>0</td>\n",
       "      <td>0</td>\n",
       "      <td>1</td>\n",
       "      <td>6.318968</td>\n",
       "      <td>7.612337</td>\n",
       "    </tr>\n",
       "    <tr>\n",
       "      <th>208</th>\n",
       "      <td>626</td>\n",
       "      <td>0</td>\n",
       "      <td>1442.500000</td>\n",
       "      <td>14.4</td>\n",
       "      <td>-10.200000</td>\n",
       "      <td>62</td>\n",
       "      <td>0</td>\n",
       "      <td>0</td>\n",
       "      <td>0</td>\n",
       "      <td>1</td>\n",
       "      <td>6.439351</td>\n",
       "      <td>7.274133</td>\n",
       "    </tr>\n",
       "  </tbody>\n",
       "</table>\n",
       "<p>209 rows × 12 columns</p>\n",
       "</div>"
      ],
      "text/plain": [
       "     salary  pcsalary         sales   roe       pcroe  ros  indus  finance  \\\n",
       "0      1095        20  27595.000000  14.1  106.400002  191      1        0   \n",
       "1      1001        32   9958.000000  10.9  -30.600000   13      1        0   \n",
       "2      1122         9   6125.899902  23.5  -16.299999   14      1        0   \n",
       "3       578        -9  16246.000000   5.9  -25.700001  -21      1        0   \n",
       "4      1368         7  21783.199219  13.8   -3.000000   56      1        0   \n",
       "..      ...       ...           ...   ...         ...  ...    ...      ...   \n",
       "204     930        10   1509.099976   9.0   20.500000  131      0        0   \n",
       "205     525         3   1097.099976  15.5   20.100000   72      0        0   \n",
       "206     658        32   4542.600098  12.1   -7.800000   68      0        0   \n",
       "207     555         6   2023.000000  13.7  -14.600000   60      0        0   \n",
       "208     626         0   1442.500000  14.4  -10.200000   62      0        0   \n",
       "\n",
       "     consprod  utility   lsalary     lsales  \n",
       "0           0        0  6.998509  10.225389  \n",
       "1           0        0  6.908755   9.206132  \n",
       "2           0        0  7.022868   8.720281  \n",
       "3           0        0  6.359574   9.695602  \n",
       "4           0        0  7.221105   9.988894  \n",
       "..        ...      ...       ...        ...  \n",
       "204         0        1  6.835185   7.319269  \n",
       "205         0        1  6.263398   7.000426  \n",
       "206         0        1  6.489205   8.421255  \n",
       "207         0        1  6.318968   7.612337  \n",
       "208         0        1  6.439351   7.274133  \n",
       "\n",
       "[209 rows x 12 columns]"
      ]
     },
     "execution_count": 2,
     "metadata": {},
     "output_type": "execute_result"
    }
   ],
   "source": [
    "# Cargar datos\n",
    "ceosal1 = woo.dataWoo('ceosal1')\n",
    "ceosal1"
   ]
  },
  {
   "cell_type": "code",
   "execution_count": 3,
   "id": "91d8937b",
   "metadata": {},
   "outputs": [],
   "source": [
    "# Extraemos de nuestro Data Frame los variables de interes\n",
    "x = ceosal1['roe']\n",
    "y = ceosal1['salary']"
   ]
  },
  {
   "cell_type": "code",
   "execution_count": 4,
   "id": "8ce7f64a",
   "metadata": {},
   "outputs": [
    {
     "name": "stdout",
     "output_type": "stream",
     "text": [
      "b1: 963.1913364725579\n",
      "b2: 18.501186345214922\n"
     ]
    }
   ],
   "source": [
    "# Reproducimos las formulas\n",
    "cov_xy = np.cov(x, y)[1, 0] # Accedemos a la fila 2 y columna 1 de la matriz\n",
    "var_x = np.var(x, ddof=1) # Corregimos por grados de libertad el sesgo (ddof)\n",
    "x_bar = np.mean(x)\n",
    "y_bar = np.mean(y)\n",
    "# Calculo manual de los coeficientes MCO\n",
    "b2 = cov_xy / var_x\n",
    "b1 = y_bar - (b2 * x_bar)\n",
    "\n",
    "print(f'b1: {b1}')\n",
    "print(f'b2: {b2}')"
   ]
  },
  {
   "cell_type": "markdown",
   "id": "2da02e95",
   "metadata": {},
   "source": [
    "Una manera más eficiente de calcular los estimadores del modelo de regresión lineal, es usando el módulo <span style=\"background-color: #D3D3D3; padding: 2px;\">**statsmodels**</span>, este módulo contiene todas las operaciones de análisis y modelado estadístico (aunque nunca viene mal programarlo por uno mismo para comprender el funcionamiento interno de estas paqueterías). Este módulo contiene tanto, submódulos, clases y funciones que uno puede mandar a llamar para realizar las operaciones de su interés.\n",
    "Para este caso usaremos <span style=\"background-color: #D3D3D3; padding: 2px;\">**statsmodels.formula.api**</span> que nos brinda una interfaz más declarativa y fácil de usar, al contener métodos ya expresados como fórmulas matemáticas al estilo R. Por otra parte esta, <span style=\"background-color: #D3D3D3; padding: 2px;\">**statsmodels.api**</span>, que nos permite trabajar directamente con las clases, proporcionando mayor flexibilidad."
   ]
  },
  {
   "cell_type": "code",
   "execution_count": 5,
   "id": "548d2824",
   "metadata": {},
   "outputs": [],
   "source": [
    "import statsmodels.formula.api as smf"
   ]
  },
  {
   "cell_type": "code",
   "execution_count": 12,
   "id": "1a0bed92",
   "metadata": {},
   "outputs": [
    {
     "name": "stdout",
     "output_type": "stream",
     "text": [
      "b: \n",
      "Intercept    963.191336\n",
      "roe           18.501186\n",
      "dtype: float64\n",
      "\n"
     ]
    }
   ],
   "source": [
    "reg = smf.ols(formula='salary ~ roe', data=ceosal1) #instanciamos la clase\n",
    "results = reg.fit() #usamos el método fit y guardamos todos los resultados\n",
    "b = results.params #usamos la propiedad params del objeto results\n",
    "print(f'b: \\n{b}\\n')"
   ]
  },
  {
   "cell_type": "code",
   "execution_count": 7,
   "id": "bf4a9f4e",
   "metadata": {},
   "outputs": [
    {
     "data": {
      "image/png": "[encoded data removed]",
      "text/plain": [
       "<Figure size 640x480 with 1 Axes>"
      ]
     },
     "metadata": {},
     "output_type": "display_data"
    }
   ],
   "source": [
    "# scatter plot and fitted values:\n",
    "plt.scatter('roe', 'salary', data=ceosal1, color='red', marker='.')\n",
    "plt.plot(ceosal1['roe'], results.fittedvalues, color='black', linestyle='--') #usar propiedad fittedvalues para y_hat\n",
    "plt.ylabel('salary')\n",
    "plt.xlabel('roe')\n",
    "plt.show()"
   ]
  },
  {
   "cell_type": "markdown",
   "id": "5ed0a5a2",
   "metadata": {},
   "source": [
    "# Wooldridge, Ejemplo 2.4"
   ]
  },
  {
   "cell_type": "markdown",
   "id": "d29146d4",
   "metadata": {},
   "source": [
    "Para este ejemplo se usará el conjunto de datos <font color = red> WAGE1 </font>, tal cual lo hace el ejemplo 2.4 \"Wage and Education\":\n",
    "\n",
    "$$\\text{wage} = \\beta_0 + \\beta_1 \\text{education} + u$$\n",
    "\n",
    "donde $\\text{wage}$ es el salario en dólares por hora de la fuerza laboral y $\\text{education}$ son los años de educación."
   ]
  },
  {
   "cell_type": "code",
   "execution_count": 24,
   "id": "9514fa4b",
   "metadata": {},
   "outputs": [],
   "source": [
    "# Importamos los datos\n",
    "wage1 = woo.dataWoo('wage1')"
   ]
  },
  {
   "cell_type": "code",
   "execution_count": 25,
   "id": "fdb62b07",
   "metadata": {},
   "outputs": [
    {
     "name": "stdout",
     "output_type": "stream",
     "text": [
      "b: \n",
      "Intercept   -0.904852\n",
      "educ         0.541359\n",
      "dtype: float64\n",
      "\n"
     ]
    }
   ],
   "source": [
    "# Regresion MCO\n",
    "reg = smf.ols(formula='wage ~ educ', data=wage1) #instanciamos la clase\n",
    "results = reg.fit() #usamos el método fit\n",
    "b = results.params #usamos una propiedad\n",
    "print(f'b: \\n{b}\\n')"
   ]
  },
  {
   "cell_type": "markdown",
   "id": "654dffa5",
   "metadata": {},
   "source": [
    "La interpretación de estos resutados son sencillos, un año adicional de educación se asocia con un aumento del salario típico de aproximadamente 54 centavos por hora."
   ]
  },
  {
   "cell_type": "markdown",
   "id": "f343aece",
   "metadata": {},
   "source": [
    "# Wooldridge, Ejemplo 2.5"
   ]
  },
  {
   "cell_type": "markdown",
   "id": "9191551c",
   "metadata": {},
   "source": [
    "De igual modo, para este ejemplo se usará el conjunto de datos <font color = red> VOTE1 </font>, tal cual lo hace el ejemplo 2.5 \"Voting Outcomes and Campaign Expenditures\":\n",
    "\n",
    "$$\\text{voteA} = \\beta_0 + \\beta_1 \\text{shareA} + u$$\n",
    "\n",
    "Sea $\\text{voteA}$ el porcentaje de votos obtenidos por el candidato A y $\\text{shareA}$ el porcentaje total de los gastos de campaña atribuido al candidato A."
   ]
  },
  {
   "cell_type": "code",
   "execution_count": 28,
   "id": "0a16c4a8",
   "metadata": {},
   "outputs": [],
   "source": [
    "# importamos los datos\n",
    "vote1 = woo.dataWoo('vote1')"
   ]
  },
  {
   "cell_type": "code",
   "execution_count": 29,
   "id": "5f6c1130",
   "metadata": {},
   "outputs": [
    {
     "name": "stdout",
     "output_type": "stream",
     "text": [
      "b: \n",
      "Intercept    26.812214\n",
      "shareA        0.463827\n",
      "dtype: float64\n",
      "\n"
     ]
    }
   ],
   "source": [
    "# regresion MCO\n",
    "reg = smf.ols(formula='voteA ~ shareA', data=vote1)\n",
    "results = reg.fit()\n",
    "b = results.params\n",
    "print(f'b: \\n{b}\\n')"
   ]
  },
  {
   "cell_type": "markdown",
   "id": "06396503",
   "metadata": {},
   "source": [
    "Este resultado nos indica que si aumenta el gasto del candidato A en un punto porcentual, él obtendrá aproximadamente medio punto porcentual (0.4638) más del total de votos."
   ]
  },
  {
   "cell_type": "code",
   "execution_count": 32,
   "id": "3a8d4abc",
   "metadata": {},
   "outputs": [
    {
     "data": {
      "image/png": "[encoded data removed]",
      "text/plain": [
       "<Figure size 640x480 with 1 Axes>"
      ]
     },
     "metadata": {},
     "output_type": "display_data"
    }
   ],
   "source": [
    "# Graficamos\n",
    "plt.scatter('shareA', 'voteA', data= vote1, color='blue', marker='.')\n",
    "plt.plot(vote1['shareA'], results.fittedvalues, color='black', linestyle='-')\n",
    "plt.ylabel('% de votos obtenidos')\n",
    "plt.xlabel('% total de los gastos')\n",
    "plt.show()"
   ]
  }
 ],
 "metadata": {
  "kernelspec": {
   "display_name": "Python 3 (ipykernel)",
   "language": "python",
   "name": "python3"
  },
  "language_info": {
   "codemirror_mode": {
    "name": "ipython",
    "version": 3
   },
   "file_extension": ".py",
   "mimetype": "text/x-python",
   "name": "python",
   "nbconvert_exporter": "python",
   "pygments_lexer": "ipython3",
   "version": "3.11.5"
  },
  "toc": {
   "base_numbering": 1,
   "nav_menu": {},
   "number_sections": true,
   "sideBar": true,
   "skip_h1_title": false,
   "title_cell": "Table of Contents",
   "title_sidebar": "Contents",
   "toc_cell": false,
   "toc_position": {},
   "toc_section_display": true,
   "toc_window_display": false
  },
  "varInspector": {
   "cols": {
    "lenName": 16,
    "lenType": 16,
    "lenVar": 40
   },
   "kernels_config": {
    "python": {
     "delete_cmd_postfix": "",
     "delete_cmd_prefix": "del ",
     "library": "var_list.py",
     "varRefreshCmd": "print(var_dic_list())"
    },
    "r": {
     "delete_cmd_postfix": ") ",
     "delete_cmd_prefix": "rm(",
     "library": "var_list.r",
     "varRefreshCmd": "cat(var_dic_list()) "
    }
   },
   "types_to_exclude": [
    "module",
    "function",
    "builtin_function_or_method",
    "instance",
    "_Feature"
   ],
   "window_display": false
  }
 },
 "nbformat": 4,
 "nbformat_minor": 5
}
